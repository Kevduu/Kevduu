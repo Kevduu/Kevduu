{
  "nbformat": 4,
  "nbformat_minor": 0,
  "metadata": {
    "colab": {
      "name": "Homework 1.ipynb",
      "provenance": [],
      "collapsed_sections": [],
      "authorship_tag": "ABX9TyN7sP/pvnG+k1aC2BeGyvf4",
      "include_colab_link": true
    },
    "kernelspec": {
      "name": "python3",
      "display_name": "Python 3"
    },
    "language_info": {
      "name": "python"
    }
  },
  "cells": [
    {
      "cell_type": "markdown",
      "metadata": {
        "id": "view-in-github",
        "colab_type": "text"
      },
      "source": [
        "<a href=\"https://colab.research.google.com/github/Kevduu/Kevduu/blob/main/Homework_1.ipynb\" target=\"_parent\"><img src=\"https://colab.research.google.com/assets/colab-badge.svg\" alt=\"Open In Colab\"/></a>"
      ]
    },
    {
      "cell_type": "code",
      "execution_count": 1,
      "metadata": {
        "colab": {
          "base_uri": "https://localhost:8080/"
        },
        "id": "yUY4ZDpw0KFO",
        "outputId": "c7743539-ba22-4aa6-fba7-febb79c25750"
      },
      "outputs": [
        {
          "output_type": "stream",
          "name": "stdout",
          "text": [
            "[[-1]\n",
            " [ 0]\n",
            " [ 2]\n",
            " [ 2]]\n",
            "-12\n"
          ]
        }
      ],
      "source": [
        "import numpy as np\n",
        "\n",
        "#The two vectors and one matrix\n",
        "u = np.matrix([[-3],[2],[1],[-1]])\n",
        "v = np.matrix([[2],[-2],[1],[3]])\n",
        "A = np.matrix([[1, 5, 4, -2],[-7, 2, 1, 4],[3, 2, -1, 1],[1, 3, -4, 2]])\n",
        "\n",
        "#Sum of u and v\n",
        "sum = u+v\n",
        "print(sum)\n",
        "\n",
        "#Dot product of u and v\n",
        "dot = np.sum(np.multiply(u,v))\n",
        "print(dot)\n",
        "\n",
        "#Transpose of A\n",
        "\n",
        "\n",
        "#Determinant of A\n",
        "\n",
        "\n",
        "#Inverse of A\n",
        "\n",
        "\n",
        "#Matrix product of A and u\n"
      ]
    }
  ]
}